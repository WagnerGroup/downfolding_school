{
 "cells": [
  {
   "cell_type": "code",
   "execution_count": 1,
   "metadata": {},
   "outputs": [
    {
     "name": "stderr",
     "output_type": "stream",
     "text": [
      "/Users/heather/opt/anaconda3/envs/pyqmc_dev/lib/python3.9/site-packages/pyscf/lib/misc.py:46: H5pyDeprecationWarning: Setting h5py.default_file_mode is deprecated. 'r' (read-only) is the default from h5py 3.0.\n",
      "  h5py.get_config().default_file_mode = 'r'\n"
     ]
    }
   ],
   "source": [
    "import numpy as np\n",
    "import pyscf\n",
    "import matplotlib.pyplot as plt\n",
    "import pyscf.lo\n"
   ]
  },
  {
   "cell_type": "code",
   "execution_count": 2,
   "metadata": {},
   "outputs": [
    {
     "name": "stdout",
     "output_type": "stream",
     "text": [
      "converged SCF energy = -1.09056621169749\n"
     ]
    },
    {
     "data": {
      "text/plain": [
       "-1.090566211697487"
      ]
     },
     "execution_count": 2,
     "metadata": {},
     "output_type": "execute_result"
    }
   ],
   "source": [
    "mol = pyscf.gto.M(atom=\"H 0. 0. 0.; H 0. 0. 1.4\",\n",
    "                  unit='B',\n",
    "                  basis='minao')\n",
    "mf = pyscf.scf.RHF(mol)\n",
    "mf.kernel()"
   ]
  },
  {
   "cell_type": "code",
   "execution_count": 3,
   "metadata": {},
   "outputs": [],
   "source": [
    "def get_iao(mol, mf, mo_coeff, ref_bas = 'minao'):\n",
    "  a = pyscf.lo.iao.iao(mol, mo_coeff, minao=ref_bas) \n",
    "  a = pyscf.lo.vec_lowdin(a, mf.get_ovlp())\n",
    "  R_ao_lo = np.einsum('ji,jk->ik', a, mf.get_ovlp())\n",
    "  return a, R_ao_lo\n",
    "\n",
    "a, R_ao_lo = get_iao(mol, mf, mf.mo_coeff[:,:2])\n",
    "R_mo_lo = np.einsum('ji,jk,kl->il',a,mf.get_ovlp(),mf.mo_coeff[:,:2])"
   ]
  },
  {
   "cell_type": "code",
   "execution_count": 4,
   "metadata": {},
   "outputs": [
    {
     "name": "stdout",
     "output_type": "stream",
     "text": [
      "TB Ham:\n",
      " [[-0.11020441 -0.50912646]\n",
      " [-0.50912646 -0.11020441]]\n",
      "TB eigenvals: [-0.61933087  0.39892205]\n",
      "HF mo energies: [-0.61933087  0.39892205]\n"
     ]
    }
   ],
   "source": [
    "# Obtain the 1e TB model Hamiltonian in LO\n",
    "ham_tb_lo = np.einsum('i,ai,bi->ab', mf.mo_energy, R_mo_lo, R_mo_lo)\n",
    "print('TB Ham:\\n', ham_tb_lo)\n",
    "\n",
    "# check that the TB model gives the same mo energies\n",
    "eigvals, eigvecs = np.linalg.eigh(ham_tb_lo)\n",
    "print('TB eigenvals:', eigvals)\n",
    "print('HF mo energies:', mf.mo_energy)"
   ]
  },
  {
   "cell_type": "code",
   "execution_count": 16,
   "metadata": {},
   "outputs": [
    {
     "name": "stdout",
     "output_type": "stream",
     "text": [
      "direct 1e integrals in MO:\n",
      " [[-1.18552106e+00 -1.11022302e-16]\n",
      " [ 0.00000000e+00 -5.73440850e-01]]\n"
     ]
    }
   ],
   "source": [
    "# compute the 1e integrals\n",
    "ham_1e_kin = pyscf.gto.getints(\"int1e_kin_sph\", mol._atm, mol._bas, mol._env)\n",
    "ham_1e_nuc = pyscf.gto.getints(\"int1e_nuc_sph\", mol._atm, mol._bas, mol._env)\n",
    "\n",
    "ham_1e = ham_1e_kin + ham_1e_nuc\n",
    "\n",
    "# transform into MO basis\n",
    "ham_1e_mo = np.einsum('kl,ki,lj', ham_1e, mf.mo_coeff, mf.mo_coeff)\n",
    "print('direct 1e integrals in MO:\\n', ham_1e_mo)\n"
   ]
  },
  {
   "cell_type": "code",
   "execution_count": 26,
   "metadata": {},
   "outputs": [
    {
     "data": {
      "text/plain": [
       "-2.371042114764098"
      ]
     },
     "execution_count": 26,
     "metadata": {},
     "output_type": "execute_result"
    }
   ],
   "source": [
    "mf.energy_elec()[0] - mf.energy_elec()[1]"
   ]
  },
  {
   "cell_type": "code",
   "execution_count": 17,
   "metadata": {},
   "outputs": [
    {
     "name": "stdout",
     "output_type": "stream",
     "text": [
      "direct 1e integrals in LO:\n",
      " [[-0.87948095 -0.3060401 ]\n",
      " [-0.3060401  -0.87948095]]\n"
     ]
    }
   ],
   "source": [
    "# transform into the localized basis\n",
    "ham_1e_lo = np.einsum('kl,ki,lj', ham_1e, a, a)\n",
    "print('direct 1e integrals in LO:\\n', ham_1e_lo)"
   ]
  },
  {
   "cell_type": "code",
   "execution_count": 28,
   "metadata": {},
   "outputs": [
    {
     "name": "stdout",
     "output_type": "stream",
     "text": [
      "direct 2e integrals in MO:\n",
      " [[[[ 5.66190189e-01 -5.55111512e-17]\n",
      "   [-5.55111512e-17  5.56277523e-01]]\n",
      "\n",
      "  [[-2.77555756e-17  1.40192148e-01]\n",
      "   [ 1.40192148e-01 -1.11022302e-16]]]\n",
      "\n",
      "\n",
      " [[[-1.38777878e-16  1.40192148e-01]\n",
      "   [ 1.40192148e-01 -5.55111512e-16]]\n",
      "\n",
      "  [[ 5.56277523e-01 -3.33066907e-16]\n",
      "   [ 0.00000000e+00  5.85863852e-01]]]]\n"
     ]
    }
   ],
   "source": [
    "# compute the 2e integrals\n",
    "int_2e_ao = pyscf.gto.getints(\"int2e_sph\", mol._atm, mol._bas, mol._env)\n",
    "int_2e_mo = np.einsum('klmn,ka,lb,mc,nd->abcd', int_2e_ao, mf.mo_coeff, mf.mo_coeff, mf.mo_coeff, mf.mo_coeff)\n",
    "\n",
    "print('direct 2e integrals in MO:\\n',int_2e_mo)"
   ]
  },
  {
   "cell_type": "code",
   "execution_count": 27,
   "metadata": {},
   "outputs": [
    {
     "name": "stdout",
     "output_type": "stream",
     "text": [
      "direct 2e integrals in LO:\n",
      " [[[[ 0.70634442 -0.00491842]\n",
      "   [-0.00491842  0.42596012]]\n",
      "\n",
      "  [[-0.00491842  0.00987475]\n",
      "   [ 0.00987475 -0.00491842]]]\n",
      "\n",
      "\n",
      " [[[-0.00491842  0.00987475]\n",
      "   [ 0.00987475 -0.00491842]]\n",
      "\n",
      "  [[ 0.42596012 -0.00491842]\n",
      "   [-0.00491842  0.70634442]]]]\n"
     ]
    }
   ],
   "source": [
    "int_2e_lo = np.einsum('klmn,ka,lb,mc,nd->abcd', int_2e_ao, a, a, a, a)\n",
    "\n",
    "print('direct 2e integrals in LO:\\n',int_2e_lo)"
   ]
  }
 ],
 "metadata": {
  "interpreter": {
   "hash": "6bf0080d2bf7c69e5ecb3de7eed3dbc9afeb0ec91e88437a220efe358d894423"
  },
  "kernelspec": {
   "display_name": "Python 3.9.7 ('pyqmc_dev')",
   "language": "python",
   "name": "python3"
  },
  "language_info": {
   "codemirror_mode": {
    "name": "ipython",
    "version": 3
   },
   "file_extension": ".py",
   "mimetype": "text/x-python",
   "name": "python",
   "nbconvert_exporter": "python",
   "pygments_lexer": "ipython3",
   "version": "3.9.7"
  },
  "orig_nbformat": 4
 },
 "nbformat": 4,
 "nbformat_minor": 2
}
