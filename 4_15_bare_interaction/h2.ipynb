{
 "cells": [
  {
   "cell_type": "code",
   "execution_count": 1,
   "metadata": {},
   "outputs": [],
   "source": [
    "import numpy as np\n",
    "import pyscf\n",
    "import matplotlib.pyplot as plt\n",
    "import pyscf.lo\n"
   ]
  },
  {
   "cell_type": "code",
   "execution_count": 2,
   "metadata": {},
   "outputs": [
    {
     "name": "stdout",
     "output_type": "stream",
     "text": [
      "converged SCF energy = -1.09946580584267\n"
     ]
    },
    {
     "data": {
      "text/plain": [
       "-1.0994658058426698"
      ]
     },
     "execution_count": 2,
     "metadata": {},
     "output_type": "execute_result"
    }
   ],
   "source": [
    "mol = pyscf.gto.M(atom=\"H 0. 0. 0.; H 0. 0. 1.4\",\n",
    "                  unit='B',\n",
    "                  basis='minao')\n",
    "mf = pyscf.scf.RKS(mol)\n",
    "mf.kernel()"
   ]
  },
  {
   "cell_type": "code",
   "execution_count": 19,
   "metadata": {},
   "outputs": [],
   "source": [
    "def get_iao(mol, mf, mo_coeff, ref_bas = 'minao'):\n",
    "  a = pyscf.lo.iao.iao(mol, mo_coeff, minao=ref_bas) # this is doing nothing but getting back the AO when we are using the minimal basis\n",
    "  a = pyscf.lo.vec_lowdin(a, mf.get_ovlp()) # orthogonalize a\n",
    "  R_ao_lo = np.einsum('ji,jk->ik', a, mf.get_ovlp())\n",
    "  return a, R_ao_lo\n",
    "\n",
    "a, R_ao_lo = get_iao(mol, mf, mf.mo_coeff[:,:2])\n",
    "R_mo_lo = np.einsum('ji,jk,kl->il',a,mf.get_ovlp(),mf.mo_coeff[:,:2])"
   ]
  },
  {
   "cell_type": "markdown",
   "metadata": {},
   "source": [
    "The TB Hamiltonian represents the Fock operator (kinetic + elec-ion + Hartree + exchange (or exchange-corrrelation in RKS)), while the int_1e represents only the kinetic + elec-ion. \n",
    "\n",
    "You may check that the int_1e in the AO basis does not depend on what method you use. "
   ]
  },
  {
   "cell_type": "code",
   "execution_count": 5,
   "metadata": {},
   "outputs": [
    {
     "name": "stdout",
     "output_type": "stream",
     "text": [
      "TB Ham:\n",
      " [[-0.13344729 -0.29499569]\n",
      " [-0.29499569 -0.13344729]]\n",
      "TB eigenvals: [-0.42844298  0.1615484 ]\n",
      "HF mo energies: [-0.42844298  0.1615484 ]\n"
     ]
    }
   ],
   "source": [
    "# Obtain the 1e TB model Hamiltonian in LO\n",
    "ham_tb_lo = np.einsum('i,ai,bi->ab', mf.mo_energy, R_mo_lo, R_mo_lo)\n",
    "print('TB Ham:\\n', ham_tb_lo)\n",
    "\n",
    "# check that the TB model gives the same mo energies\n",
    "eigvals, eigvecs = np.linalg.eigh(ham_tb_lo)\n",
    "print('TB eigenvals:', eigvals)\n",
    "print('HF mo energies:', mf.mo_energy)"
   ]
  },
  {
   "cell_type": "code",
   "execution_count": 6,
   "metadata": {},
   "outputs": [
    {
     "name": "stdout",
     "output_type": "stream",
     "text": [
      "direct 1e integrals in MO:\n",
      " [[-1.18552106e+00 -3.33066907e-16]\n",
      " [-2.22044605e-16 -5.73440850e-01]]\n"
     ]
    }
   ],
   "source": [
    "# compute the 1e integrals\n",
    "ham_1e_kin = pyscf.gto.getints(\"int1e_kin_sph\", mol._atm, mol._bas, mol._env)\n",
    "ham_1e_nuc = pyscf.gto.getints(\"int1e_nuc_sph\", mol._atm, mol._bas, mol._env)\n",
    "\n",
    "ham_1e = ham_1e_kin + ham_1e_nuc\n",
    "\n",
    "# transform into MO basis\n",
    "ham_1e_mo = np.einsum('kl,ki,lj', ham_1e, mf.mo_coeff, mf.mo_coeff)\n",
    "print('direct 1e integrals in MO:\\n', ham_1e_mo)\n"
   ]
  },
  {
   "cell_type": "code",
   "execution_count": 23,
   "metadata": {},
   "outputs": [
    {
     "name": "stdout",
     "output_type": "stream",
     "text": [
      "direct 1e integrals in AO basis:\n",
      " [[-1.10989625 -0.9681947 ]\n",
      " [-0.9681947  -1.10989625]]\n"
     ]
    }
   ],
   "source": [
    "print('direct 1e integrals in AO basis:\\n', ham_1e)"
   ]
  },
  {
   "cell_type": "code",
   "execution_count": 21,
   "metadata": {},
   "outputs": [
    {
     "name": "stdout",
     "output_type": "stream",
     "text": [
      "direct 1e integrals in LO (orthogonalized AO):\n",
      " [[-0.87948095 -0.3060401 ]\n",
      " [-0.3060401  -0.87948095]]\n"
     ]
    }
   ],
   "source": [
    "# transform into the localized basis\n",
    "ham_1e_lo = np.einsum('kl,ki,lj', ham_1e, a, a)\n",
    "print('direct 1e integrals in LO (orthogonalized AO):\\n', ham_1e_lo)"
   ]
  },
  {
   "cell_type": "code",
   "execution_count": 9,
   "metadata": {},
   "outputs": [
    {
     "name": "stdout",
     "output_type": "stream",
     "text": [
      "direct 2e integrals in MO:\n",
      " [[[[ 5.66190189e-01 -8.32667268e-17]\n",
      "   [-1.11022302e-16  5.56277523e-01]]\n",
      "\n",
      "  [[ 5.55111512e-17  1.40192148e-01]\n",
      "   [ 1.40192148e-01  3.33066907e-16]]]\n",
      "\n",
      "\n",
      " [[[-1.38777878e-16  1.40192148e-01]\n",
      "   [ 1.40192148e-01  0.00000000e+00]]\n",
      "\n",
      "  [[ 5.56277523e-01  0.00000000e+00]\n",
      "   [ 0.00000000e+00  5.85863852e-01]]]]\n"
     ]
    }
   ],
   "source": [
    "# compute the 2e integrals\n",
    "int_2e_ao = pyscf.gto.getints(\"int2e_sph\", mol._atm, mol._bas, mol._env)\n",
    "int_2e_mo = np.einsum('klmn,ka,lb,mc,nd->abcd', int_2e_ao, mf.mo_coeff, mf.mo_coeff, mf.mo_coeff, mf.mo_coeff)\n",
    "\n",
    "print('direct 2e integrals in MO:\\n',int_2e_mo)"
   ]
  },
  {
   "cell_type": "code",
   "execution_count": 10,
   "metadata": {},
   "outputs": [
    {
     "name": "stdout",
     "output_type": "stream",
     "text": [
      "0.5661901887808966 0.5858638518021564\n"
     ]
    }
   ],
   "source": [
    "# The density-density interactions betweem MO 0 and 0, 0 and 1 are close in value\n",
    "print(int_2e_mo[0,0,0,0], int_2e_mo[1,1,1,1])"
   ]
  },
  {
   "cell_type": "code",
   "execution_count": 11,
   "metadata": {},
   "outputs": [
    {
     "name": "stdout",
     "output_type": "stream",
     "text": [
      "0.1401921481125708 0.14019214811256994\n"
     ]
    }
   ],
   "source": [
    "# The exchange interactions\n",
    "print(int_2e_mo[0,1,1,0], int_2e_mo[1,0,0,1])"
   ]
  },
  {
   "cell_type": "code",
   "execution_count": 12,
   "metadata": {},
   "outputs": [
    {
     "name": "stdout",
     "output_type": "stream",
     "text": [
      "direct 2e integrals in LO:\n",
      " [[[[ 0.70634442 -0.00491842]\n",
      "   [-0.00491842  0.42596012]]\n",
      "\n",
      "  [[-0.00491842  0.00987475]\n",
      "   [ 0.00987475 -0.00491842]]]\n",
      "\n",
      "\n",
      " [[[-0.00491842  0.00987475]\n",
      "   [ 0.00987475 -0.00491842]]\n",
      "\n",
      "  [[ 0.42596012 -0.00491842]\n",
      "   [-0.00491842  0.70634442]]]]\n"
     ]
    }
   ],
   "source": [
    "# transform to the localized orbital basis\n",
    "int_2e_lo = np.einsum('klmn,ka,lb,mc,nd->abcd', int_2e_ao, a, a, a, a)\n",
    "\n",
    "print('direct 2e integrals in LO:\\n',int_2e_lo)"
   ]
  },
  {
   "cell_type": "markdown",
   "metadata": {},
   "source": [
    "##### Next, we compare the 1b and 2b energy contributions from the ab-initio (RKS) with those obtained using exact diagonalization of the model Hamiltonian\n",
    "\n",
    "* RKS: 1b and 2b contributions "
   ]
  },
  {
   "cell_type": "code",
   "execution_count": 25,
   "metadata": {},
   "outputs": [
    {
     "name": "stdout",
     "output_type": "stream",
     "text": [
      "RKS (LDA) energy contribution from 1b and 2b: -2.3710421147641005 0.5661901887808973\n",
      "RKS total energy - E_nuc: -1.8048519259832032\n"
     ]
    }
   ],
   "source": [
    "rdm1_lo = np.einsum('ij,ai,bj->ab',mf.make_rdm1(), R_ao_lo, R_ao_lo)\n",
    "e_1b = np.einsum('ij,ij->',ham_1e_lo, rdm1_lo)\n",
    "\n",
    "rdm2_mo = np.zeros([2,2,2,2])\n",
    "rdm2_mo[0,0,0,0] = 2\n",
    "rdm2_lo = np.einsum('ijkl,ai,bj,ck,dl->abcd',rdm2_mo, R_mo_lo, R_mo_lo, R_mo_lo, R_mo_lo)\n",
    "e_2b = 0.5*np.einsum('ijkl,ijkl->',int_2e_lo, rdm2_lo)\n",
    "\n",
    "print('RKS (LDA) energy contribution from 1b and 2b:', e_1b, e_2b)\n",
    "print('RKS total energy - E_nuc:', e_1b+e_2b)"
   ]
  },
  {
   "cell_type": "markdown",
   "metadata": {},
   "source": [
    "* Exact diagonalization:"
   ]
  },
  {
   "cell_type": "code",
   "execution_count": 14,
   "metadata": {},
   "outputs": [],
   "source": [
    "from pyscf import fci\n",
    "\n",
    "def solver(n,h1,h2):\n",
    "  nelec=(int(n/2),int(n/2))\n",
    "  e, fcivec = fci.direct_spin1.kernel(h1, h2, n, nelec, verbose=5)\n",
    "  dm1, dm2 = fci.direct_spin1.make_rdm12(fcivec, n, nelec)\n",
    "  return {'e':e, 'dm1':dm1, 'dm2':dm2}\n",
    "\n",
    "def get_energy_components(n,h1,h2):\n",
    "  data = solver(n,h1,h2)\n",
    "  int_expectation = 0.5*np.einsum('ijkl,ijkl->', data['dm2'], h2)\n",
    "  oneb_expectation = np.einsum('ij,ij->', data['dm1'], h1)\n",
    "\n",
    "  return {'total_energy_model':data['e'],  \n",
    "          '1b_expectation':oneb_expectation,\n",
    "          '2b_expectation':int_expectation} "
   ]
  },
  {
   "cell_type": "code",
   "execution_count": 15,
   "metadata": {},
   "outputs": [
    {
     "data": {
      "text/plain": [
       "{'total_energy_model': -1.820457154669604,\n",
       " '1b_expectation': -2.3560596551758977,\n",
       " '2b_expectation': 0.5356025005062921}"
      ]
     },
     "execution_count": 15,
     "metadata": {},
     "output_type": "execute_result"
    }
   ],
   "source": [
    "# Note that this total energy does not have the contribution from the nuclei interaction\n",
    "get_energy_components(2,ham_1e_lo,int_2e_lo)"
   ]
  },
  {
   "cell_type": "code",
   "execution_count": 26,
   "metadata": {},
   "outputs": [
    {
     "name": "stdout",
     "output_type": "stream",
     "text": [
      "The ground state energy from ED of the DMD model: -1.154097820345039\n"
     ]
    }
   ],
   "source": [
    "# dmd model from optimized vmc\n",
    "h1 = np.zeros([2,2])\n",
    "h1[0,1] = -0.2894\n",
    "h1[1,0] = h1[0,1]\n",
    "h2 = np.zeros([2,2,2,2])\n",
    "h2[0,0,0,0] = 0.1985\n",
    "h2[1,1,1,1] = 0.1985\n",
    "e0 = -0.6661\n",
    "\n",
    "d = get_energy_components(2,h1,h2)\n",
    "print('The ground state energy from ED of the DMD model:', d['total_energy_model'] + e0)\n",
    "\n",
    "# This is to be compared with the total ground state energy\n",
    "# Note that it is doing much better than the RKS"
   ]
  }
 ],
 "metadata": {
  "interpreter": {
   "hash": "6bf0080d2bf7c69e5ecb3de7eed3dbc9afeb0ec91e88437a220efe358d894423"
  },
  "kernelspec": {
   "display_name": "Python 3.9.7 ('pyqmc_dev')",
   "language": "python",
   "name": "python3"
  },
  "language_info": {
   "codemirror_mode": {
    "name": "ipython",
    "version": 3
   },
   "file_extension": ".py",
   "mimetype": "text/x-python",
   "name": "python",
   "nbconvert_exporter": "python",
   "pygments_lexer": "ipython3",
   "version": "3.9.2"
  },
  "orig_nbformat": 4
 },
 "nbformat": 4,
 "nbformat_minor": 2
}
