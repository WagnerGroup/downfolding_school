{
 "cells": [
  {
   "cell_type": "code",
   "execution_count": 1,
   "metadata": {},
   "outputs": [],
   "source": [
    "import numpy as np\n",
    "import pyscf\n",
    "import matplotlib.pyplot as plt\n",
    "import pyscf.lo\n"
   ]
  },
  {
   "cell_type": "code",
   "execution_count": 2,
   "metadata": {},
   "outputs": [
    {
     "name": "stdout",
     "output_type": "stream",
     "text": [
      "converged SCF energy = -1.09056621169749\n"
     ]
    },
    {
     "data": {
      "text/plain": [
       "-1.0905662116974866"
      ]
     },
     "execution_count": 2,
     "metadata": {},
     "output_type": "execute_result"
    }
   ],
   "source": [
    "mol = pyscf.gto.M(atom=\"H 0. 0. 0.; H 0. 0. 1.4\",\n",
    "                  unit='B',\n",
    "                  basis='minao')\n",
    "mf = pyscf.scf.RHF(mol)\n",
    "mf.kernel()"
   ]
  },
  {
   "cell_type": "code",
   "execution_count": 3,
   "metadata": {},
   "outputs": [],
   "source": [
    "def get_iao(mol, mf, mo_coeff, ref_bas = 'minao'):\n",
    "  a = pyscf.lo.iao.iao(mol, mo_coeff, minao=ref_bas) \n",
    "  a = pyscf.lo.vec_lowdin(a, mf.get_ovlp())\n",
    "  R_ao_lo = np.einsum('ji,jk->ik', a, mf.get_ovlp())\n",
    "  return a, R_ao_lo\n",
    "\n",
    "a, R_ao_lo = get_iao(mol, mf, mf.mo_coeff[:,:2])\n",
    "R_mo_lo = np.einsum('ji,jk,kl->il',a,mf.get_ovlp(),mf.mo_coeff[:,:2])"
   ]
  },
  {
   "cell_type": "code",
   "execution_count": 4,
   "metadata": {},
   "outputs": [
    {
     "name": "stdout",
     "output_type": "stream",
     "text": [
      "TB Ham:\n",
      " [[-0.11020441 -0.50912646]\n",
      " [-0.50912646 -0.11020441]]\n",
      "TB eigenvals: [-0.61933087  0.39892205]\n",
      "HF mo energies: [-0.61933087  0.39892205]\n"
     ]
    }
   ],
   "source": [
    "# Obtain the 1e TB model Hamiltonian in LO\n",
    "ham_tb_lo = np.einsum('i,ai,bi->ab', mf.mo_energy, R_mo_lo, R_mo_lo)\n",
    "print('TB Ham:\\n', ham_tb_lo)\n",
    "\n",
    "# check that the TB model gives the same mo energies\n",
    "eigvals, eigvecs = np.linalg.eigh(ham_tb_lo)\n",
    "print('TB eigenvals:', eigvals)\n",
    "print('HF mo energies:', mf.mo_energy)"
   ]
  },
  {
   "cell_type": "code",
   "execution_count": 5,
   "metadata": {},
   "outputs": [
    {
     "name": "stdout",
     "output_type": "stream",
     "text": [
      "direct 1e integrals in MO:\n",
      " [[-1.18552106e+00 -1.11022302e-16]\n",
      " [-2.22044605e-16 -5.73440850e-01]]\n"
     ]
    }
   ],
   "source": [
    "# compute the 1e integrals\n",
    "ham_1e_kin = pyscf.gto.getints(\"int1e_kin_sph\", mol._atm, mol._bas, mol._env)\n",
    "ham_1e_nuc = pyscf.gto.getints(\"int1e_nuc_sph\", mol._atm, mol._bas, mol._env)\n",
    "\n",
    "ham_1e = ham_1e_kin + ham_1e_nuc\n",
    "\n",
    "# transform into MO basis\n",
    "ham_1e_mo = np.einsum('kl,ki,lj', ham_1e, mf.mo_coeff, mf.mo_coeff)\n",
    "print('direct 1e integrals in MO:\\n', ham_1e_mo)\n"
   ]
  },
  {
   "cell_type": "code",
   "execution_count": 6,
   "metadata": {},
   "outputs": [
    {
     "name": "stdout",
     "output_type": "stream",
     "text": [
      "direct 1e integrals in LO:\n",
      " [[-0.87948095 -0.3060401 ]\n",
      " [-0.3060401  -0.87948095]]\n"
     ]
    }
   ],
   "source": [
    "# transform into the localized basis\n",
    "ham_1e_lo = np.einsum('kl,ki,lj', ham_1e, a, a)\n",
    "print('direct 1e integrals in LO:\\n', ham_1e_lo)"
   ]
  },
  {
   "cell_type": "code",
   "execution_count": 7,
   "metadata": {},
   "outputs": [
    {
     "name": "stdout",
     "output_type": "stream",
     "text": [
      "direct 2e integrals in MO:\n",
      " [[[[ 5.66190189e-01  1.38777878e-16]\n",
      "   [ 0.00000000e+00  5.56277523e-01]]\n",
      "\n",
      "  [[ 1.11022302e-16  1.40192148e-01]\n",
      "   [ 1.40192148e-01  0.00000000e+00]]]\n",
      "\n",
      "\n",
      " [[[-5.55111512e-17  1.40192148e-01]\n",
      "   [ 1.40192148e-01 -3.33066907e-16]]\n",
      "\n",
      "  [[ 5.56277523e-01  0.00000000e+00]\n",
      "   [-3.33066907e-16  5.85863852e-01]]]]\n"
     ]
    }
   ],
   "source": [
    "# compute the 2e integrals\n",
    "int_2e_ao = pyscf.gto.getints(\"int2e_sph\", mol._atm, mol._bas, mol._env)\n",
    "int_2e_mo = np.einsum('klmn,ka,lb,mc,nd->abcd', int_2e_ao, mf.mo_coeff, mf.mo_coeff, mf.mo_coeff, mf.mo_coeff)\n",
    "\n",
    "print('direct 2e integrals in MO:\\n',int_2e_mo)"
   ]
  },
  {
   "cell_type": "code",
   "execution_count": 8,
   "metadata": {},
   "outputs": [
    {
     "name": "stdout",
     "output_type": "stream",
     "text": [
      "direct 2e integrals in LO:\n",
      " [[[[ 0.70634442 -0.00491842]\n",
      "   [-0.00491842  0.42596012]]\n",
      "\n",
      "  [[-0.00491842  0.00987475]\n",
      "   [ 0.00987475 -0.00491842]]]\n",
      "\n",
      "\n",
      " [[[-0.00491842  0.00987475]\n",
      "   [ 0.00987475 -0.00491842]]\n",
      "\n",
      "  [[ 0.42596012 -0.00491842]\n",
      "   [-0.00491842  0.70634442]]]]\n"
     ]
    }
   ],
   "source": [
    "# transform to the localized orbital basis\n",
    "int_2e_lo = np.einsum('klmn,ka,lb,mc,nd->abcd', int_2e_ao, a, a, a, a)\n",
    "\n",
    "print('direct 2e integrals in LO:\\n',int_2e_lo)"
   ]
  },
  {
   "cell_type": "markdown",
   "metadata": {},
   "source": [
    "##### Next, we compare the 1b and 2b energy contributions from the ab-initio (RHF) with those obtained using exact diagonalization of the model Hamiltonian\n",
    "\n",
    "* RHF: 1b and 2b contributions "
   ]
  },
  {
   "cell_type": "code",
   "execution_count": 9,
   "metadata": {},
   "outputs": [
    {
     "name": "stdout",
     "output_type": "stream",
     "text": [
      "HF energy contribution from 1b and 2b: -2.3710421147640943 0.5661901887808957\n",
      "HF total energy - E_nuc: -1.8048519259831988\n"
     ]
    }
   ],
   "source": [
    "rdm1_lo = np.einsum('ij,ai,bj->ab',mf.make_rdm1(), R_ao_lo, R_ao_lo)\n",
    "e_1b = np.einsum('ij,ij->',ham_1e_lo, rdm1_lo)\n",
    "\n",
    "rdm2_mo = np.zeros([2,2,2,2])\n",
    "rdm2_mo[0,0,0,0] = 2\n",
    "rdm2_lo = np.einsum('ijkl,ai,bj,ck,dl->abcd',rdm2_mo, R_mo_lo, R_mo_lo, R_mo_lo, R_mo_lo)\n",
    "e_2b = 0.5*np.einsum('ijkl,ijkl->',int_2e_lo, rdm2_lo)\n",
    "\n",
    "print('HF energy contribution from 1b and 2b:', e_1b, e_2b)\n",
    "print('HF total energy - E_nuc:', e_1b+e_2b)"
   ]
  },
  {
   "cell_type": "markdown",
   "metadata": {},
   "source": [
    "* Exact diagonalization:"
   ]
  },
  {
   "cell_type": "code",
   "execution_count": 10,
   "metadata": {},
   "outputs": [],
   "source": [
    "from pyscf import fci\n",
    "\n",
    "def solver(n,h1,h2):\n",
    "  nelec=(int(n/2),int(n/2))\n",
    "  e, fcivec = fci.direct_spin1.kernel(h1, h2, n, nelec, verbose=5)\n",
    "  dm1, dm2 = fci.direct_spin1.make_rdm12(fcivec, n, nelec)\n",
    "  return {'e':e, 'dm1':dm1, 'dm2':dm2}\n",
    "\n",
    "def get_energy_components(n,h1,h2):\n",
    "  data = solver(n,h1,h2)\n",
    "  int_expectation = 0.5*np.einsum('ijkl,ijkl->', data['dm2'], h2)\n",
    "  oneb_expectation = np.einsum('ij,ij->', data['dm1'], h1)\n",
    "\n",
    "  return {'total_energy_model':data['e'], '2b_expectation':int_expectation, \n",
    "          '1b_expectation':oneb_expectation} "
   ]
  },
  {
   "cell_type": "code",
   "execution_count": 11,
   "metadata": {},
   "outputs": [
    {
     "data": {
      "text/plain": [
       "{'total_energy_model': -1.8204571546696,\n",
       " '2b_expectation': 0.5356025005062913,\n",
       " '1b_expectation': -2.3560596551758923}"
      ]
     },
     "execution_count": 11,
     "metadata": {},
     "output_type": "execute_result"
    }
   ],
   "source": [
    "get_energy_components(2,ham_1e_lo,int_2e_lo)"
   ]
  }
 ],
 "metadata": {
  "interpreter": {
   "hash": "6bf0080d2bf7c69e5ecb3de7eed3dbc9afeb0ec91e88437a220efe358d894423"
  },
  "kernelspec": {
   "display_name": "Python 3.9.7 ('pyqmc_dev')",
   "language": "python",
   "name": "python3"
  },
  "language_info": {
   "codemirror_mode": {
    "name": "ipython",
    "version": 3
   },
   "file_extension": ".py",
   "mimetype": "text/x-python",
   "name": "python",
   "nbconvert_exporter": "python",
   "pygments_lexer": "ipython3",
   "version": "3.9.7"
  },
  "orig_nbformat": 4
 },
 "nbformat": 4,
 "nbformat_minor": 2
}
